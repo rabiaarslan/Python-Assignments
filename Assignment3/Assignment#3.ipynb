{
 "cells": [
  {
   "cell_type": "code",
   "execution_count": 1,
   "id": "ec530bd9",
   "metadata": {},
   "outputs": [
    {
     "name": "stdout",
     "output_type": "stream",
     "text": [
      "Twinkle, twinkle, little star,\n",
      "\tHow I wonder what you are!\n",
      "\t\tUp above the world so high,\n",
      "\t\tLike a diamond in the sky.\n",
      "Twinkle, twinkle, little star,\n",
      "\tHow I wonder what you are\n"
     ]
    }
   ],
   "source": [
    "\"\"\"1.Write a Python program to print the following string in a specific format (see the\n",
    "output).\n",
    "\n",
    "Twinkle, twinkle, little star,\n",
    "         How I wonder what you are!\n",
    "                 Up above the world so high,\n",
    "                Like a diamond in the sky.\n",
    "Twinkle, twinkle, little star,\n",
    "         How I wonder what you are\"\"\"\n",
    "\n",
    "print(\"Twinkle, twinkle, little star,\\n\\tHow I wonder what you are!\\n\\t\\tUp above the world so high,\\n\\t\\tLike a diamond in the sky.\\nTwinkle, twinkle, little star,\\n\\tHow I wonder what you are\");"
   ]
  },
  {
   "cell_type": "code",
   "execution_count": 2,
   "id": "59f25891",
   "metadata": {},
   "outputs": [
    {
     "name": "stdout",
     "output_type": "stream",
     "text": [
      "Python version\n",
      "3.8.8 (default, Apr 13 2021, 15:08:03) [MSC v.1916 64 bit (AMD64)]\n"
     ]
    }
   ],
   "source": [
    "#2.Write a Python program to get the Python version you are using\n",
    "import sys\n",
    "print(\"Python version\");\n",
    "print (sys.version);\n"
   ]
  },
  {
   "cell_type": "code",
   "execution_count": 3,
   "id": "4e905a66",
   "metadata": {},
   "outputs": [
    {
     "name": "stdout",
     "output_type": "stream",
     "text": [
      "Current date and time : \n",
      "Date: 22-10-2021\n",
      "Time: 22:21:23\n"
     ]
    }
   ],
   "source": []
  },
  {
   "cell_type": "code",
   "execution_count": 7,
   "id": "bdc3eac3",
   "metadata": {},
   "outputs": [
    {
     "name": "stdout",
     "output_type": "stream",
     "text": [
      "Enter the radius of a circle: 3\n",
      "The Area of a circle is: 28.278\n"
     ]
    }
   ],
   "source": [
    "\"\"\"4.Write a Python program which accepts the radius of a circle from the user and compute\n",
    "the area.\"\"\"\n",
    "radius=(input(\"Enter the radius of a circle: \"));\n",
    "r=int(radius);\n",
    "PI=3.142;\n",
    "area=PI*r**2;\n",
    "print(\"The Area of a circle is: \"+str(area));"
   ]
  },
  {
   "cell_type": "code",
   "execution_count": 20,
   "id": "4f36b93a",
   "metadata": {},
   "outputs": [
    {
     "name": "stdout",
     "output_type": "stream",
     "text": [
      "Enter your First name: Rabia\n",
      "Enter your Last name: Arslan\n",
      "In Reverse order: nalsrA aibaR\n"
     ]
    }
   ],
   "source": [
    "#5.Write a Python program which accepts the user's first and last name and print them in reverse order with a space between them.\"\"\"\n",
    "fnamee=(input(\"Enter your First name: \"));\n",
    "lnamee=(input(\"Enter your Last name: \"));\n",
    "fn=fnamee[::-1];\n",
    "ln=lnamee[::-1];\n",
    "print(\"In Reverse order: \"+ln+\" \"+fn);"
   ]
  },
  {
   "cell_type": "code",
   "execution_count": 19,
   "id": "9bc966e9",
   "metadata": {},
   "outputs": [
    {
     "name": "stdout",
     "output_type": "stream",
     "text": [
      "Enter 1st number: 3\n",
      "Enter 2nd number: 4\n",
      "Addition of 3 and 4 is: 7\n"
     ]
    }
   ],
   "source": [
    "#6.Write a python program which takes two inputs from user and print them addition\n",
    "n1=int((input(\"Enter 1st number: \")));\n",
    "n2=int((input(\"Enter 2nd number: \")));\n",
    "n=(n1+n2);\n",
    "print(\"Addition of \"+str(n1)+\" and \"+str(n2)+\" is: \"+str(n))"
   ]
  },
  {
   "cell_type": "code",
   "execution_count": 24,
   "id": "b906fb44",
   "metadata": {},
   "outputs": [
    {
     "name": "stdout",
     "output_type": "stream",
     "text": [
      "Enter English number: 67\n",
      "Enter Urdr number: 89\n",
      "Enter Maths number: 97\n",
      "Enter Physics number: 56\n",
      "Enter Biology number: 90\n",
      "Total Marks: 399\n",
      "Percentage: 79.80000000000001\n",
      "You got A Grade\n"
     ]
    }
   ],
   "source": [
    "\"\"\"7.Write a program which takes 5 inputs from user for different subject’s marks, total it\n",
    "and generate mark sheet using grades ?\"\"\"\n",
    "n1=int((input(\"Enter English number: \")));\n",
    "n2=int((input(\"Enter Urdr number: \")));\n",
    "n3=int((input(\"Enter Maths number: \")));\n",
    "n4=int((input(\"Enter Physics number: \")));\n",
    "n5=int((input(\"Enter Biology number: \")));\n",
    "Total=(n1+n2+n3+n4+n5);\n",
    "print(\"Total Marks: \"+str(Total));\n",
    "per=(Total/500)*100;\n",
    "print(\"Percentage: \"+str(per));\n",
    "if per<100 and per>=80:\n",
    "    print(\"You got A1 Grade\");\n",
    "elif per<80 and per>=70:\n",
    "    print(\"You got A Grade\");\n",
    "elif per<70 and per>=60:\n",
    "    print(\"You got B Grade\");\n",
    "elif per<60 and per>=50:\n",
    "    print(\"You got C Grade\");\n",
    "elif per<50 and per>=40:\n",
    "    print(\"You got D Grade\");\n",
    "else:\n",
    "     print(\"FAIL!!!\");\n",
    "    \n",
    "\n"
   ]
  },
  {
   "cell_type": "code",
   "execution_count": 27,
   "id": "12ac12d6",
   "metadata": {},
   "outputs": [
    {
     "name": "stdout",
     "output_type": "stream",
     "text": [
      "Enter 1st number: 24\n",
      "Number is Even\n"
     ]
    }
   ],
   "source": [
    "\"\"\"8.Write a program which take input from user and identify that the given number is even\n",
    "or odd?\"\"\"\n",
    "n=int((input(\"Enter 1st number: \")));\n",
    "if n%2==0:\n",
    "     print(\"Number is Even\");\n",
    "else:\n",
    "       print(\"Number is Odd\");"
   ]
  },
  {
   "cell_type": "code",
   "execution_count": 32,
   "id": "0f5b7e4b",
   "metadata": {},
   "outputs": [
    {
     "name": "stdout",
     "output_type": "stream",
     "text": [
      "Length of the list: 7\n"
     ]
    }
   ],
   "source": [
    "#9.Write a program which print the length of the list?\n",
    "arr=[1,2,3,4,\"Rabia\",True,6.78];\n",
    "print(\"Length of the list: \"+str(len(arr)));"
   ]
  },
  {
   "cell_type": "code",
   "execution_count": 39,
   "id": "b877e367",
   "metadata": {},
   "outputs": [
    {
     "name": "stdout",
     "output_type": "stream",
     "text": [
      "How many numbers you want to enter in a list 2\n",
      "Enter number: 3\n",
      "Enter number: 4\n",
      "Sum of numeric items in a list is:  7\n"
     ]
    }
   ],
   "source": [
    "#10.Write a Python program to sum all the numeric items in a list?\n",
    "a=[];\n",
    "n=int((input(\"How many numbers you want to enter in a list \")));\n",
    "for i in range(n):\n",
    "    num=int((input(\"Enter number: \")));\n",
    "    a.append(num);\n",
    "print(\"Sum of numeric items in a list is: \", sum(a));\n",
    "\n",
    "   \n"
   ]
  },
  {
   "cell_type": "code",
   "execution_count": 48,
   "id": "983f7fa9",
   "metadata": {},
   "outputs": [
    {
     "name": "stdout",
     "output_type": "stream",
     "text": [
      "How many numbers you want to enter in a list 5\n",
      "Enter number: 23\n",
      "Enter number: 45\n",
      "Enter number: 12\n",
      "Enter number: 90\n",
      "Enter number: -2\n",
      "list=  [23, 45, 12, 90, -2]\n",
      "Largest Number in a list:  90\n"
     ]
    }
   ],
   "source": [
    "#11.Write a Python program to get the largest number from a numeric list.\n",
    "a=[];\n",
    "n=int((input(\"How many numbers you want to enter in a list \")));\n",
    "for i in range(n):\n",
    "    num=int((input(\"Enter number: \")));\n",
    "    a.append(num);\n",
    "print(\"list= \",a);\n",
    "l=a[0];\n",
    "for i in a:\n",
    "    if i>l:\n",
    "       l=i;\n",
    "print(\"Largest Number in a list: \",l);\n"
   ]
  },
  {
   "cell_type": "code",
   "execution_count": 50,
   "id": "9afa6d88",
   "metadata": {},
   "outputs": [
    {
     "name": "stdout",
     "output_type": "stream",
     "text": [
      "List having numbers which are less than 5=  [1, 1, 2, 3]\n"
     ]
    }
   ],
   "source": [
    "\"\"\"12.Take a list, say for example this one:\n",
    "a = [1, 1, 2, 3, 5, 8, 13, 21, 34, 55, 89]\n",
    "Write a program that prints out all the elements of the list that are less than 5.\"\"\"\n",
    "\n",
    "a = [1, 1, 2, 3, 5, 8, 13, 21, 34, 55, 89]\n",
    "b=[];\n",
    "for i in a:\n",
    "    if i<5:\n",
    "       b.append(i);\n",
    "print(\"List having numbers which are less than 5= \",b);  \n",
    "\n"
   ]
  },
  {
   "cell_type": "code",
   "execution_count": null,
   "id": "d765d756",
   "metadata": {},
   "outputs": [],
   "source": []
  }
 ],
 "metadata": {
  "kernelspec": {
   "display_name": "Python 3",
   "language": "python",
   "name": "python3"
  },
  "language_info": {
   "codemirror_mode": {
    "name": "ipython",
    "version": 3
   },
   "file_extension": ".py",
   "mimetype": "text/x-python",
   "name": "python",
   "nbconvert_exporter": "python",
   "pygments_lexer": "ipython3",
   "version": "3.8.8"
  }
 },
 "nbformat": 4,
 "nbformat_minor": 5
}
